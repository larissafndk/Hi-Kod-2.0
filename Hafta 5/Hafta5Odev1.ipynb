{
 "cells": [
  {
   "cell_type": "markdown",
   "metadata": {},
   "source": [
    "SORU 1\n"
   ]
  },
  {
   "cell_type": "code",
   "execution_count": 4,
   "metadata": {},
   "outputs": [
    {
     "name": "stdout",
     "output_type": "stream",
     "text": [
      "{'Matematik': 85, 'Fizik': 78, 'Kimya': 92}\n",
      "Larissa adlı öğrencinin Matematik notu: 85\n"
     ]
    }
   ],
   "source": [
    "notlar=ogrenci_notlari = {\n",
    "    'Larissa': {'Matematik': 85, 'Fizik': 78, 'Kimya': 92},\n",
    "    'Berkay': {'Matematik': 90, 'Fizik': 88, 'Kimya': 80},\n",
    "}\n",
    "\n",
    "isim=input(\"Notlarını öğrenmek istediğiniz kişi: \")\n",
    "ders=input(\"Notunu öğrenmek istediğiniz ders: \")\n",
    "\n",
    "\n",
    "if isim in ogrenci_notlari:\n",
    "    if ders in ogrenci_notlari[isim]:\n",
    "        print(f\"{isim} adlı öğrencinin {ders} notu: {ogrenci_notlari[isim][ders]}\")\n",
    "    else:\n",
    "        print(f\"{isim} adlı öğrencinin {ders} dersi bulunmamaktadır.\")\n",
    "else:\n",
    "    print(f\"{isim} adlı öğrenci bulunmamaktadır.\")"
   ]
  }
 ],
 "metadata": {
  "kernelspec": {
   "display_name": "Python 3",
   "language": "python",
   "name": "python3"
  },
  "language_info": {
   "codemirror_mode": {
    "name": "ipython",
    "version": 3
   },
   "file_extension": ".py",
   "mimetype": "text/x-python",
   "name": "python",
   "nbconvert_exporter": "python",
   "pygments_lexer": "ipython3",
   "version": "3.11.0"
  }
 },
 "nbformat": 4,
 "nbformat_minor": 2
}
